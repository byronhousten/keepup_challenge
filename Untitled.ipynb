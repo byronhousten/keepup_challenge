{
 "cells": [
  {
   "cell_type": "code",
   "execution_count": 1,
   "metadata": {
    "collapsed": true
   },
   "outputs": [],
   "source": [
    "%matplotlib inline\n",
    "import pandas as pd\n",
    "import re"
   ]
  },
  {
   "cell_type": "code",
   "execution_count": 14,
   "metadata": {
    "collapsed": false
   },
   "outputs": [],
   "source": [
    "with open('amazon-meta.txt', encoding='utf8', newline='\\r\\n') as f:\n",
    "    for line in f:\n",
    "        "
   ]
  },
  {
   "cell_type": "code",
   "execution_count": 15,
   "metadata": {
    "collapsed": false
   },
   "outputs": [
    {
     "data": {
      "text/plain": [
       "'# Full information about Amazon Share the Love products\\r\\nTotal items: 548552\\r\\n\\r\\nId:   0\\r\\nASIN: 0771044445\\r\\n  discontinued product\\r\\n\\r\\nId:   1\\r\\nASIN: 0827229534\\r\\n  title: Patterns of Preaching: A Sermon Sampler\\r\\n  group: Book\\r\\n  salesrank: 396585\\r\\n  similar: 5  0804215715  156101074X  0687023955  0687074231  082721619X\\r\\n  categories: 2\\r\\n   |Books[283155]|Subjects[1000]|Religion & Spirituality[22]|Christianity[12290]|Clergy[12360]|Preaching[12368]\\r\\n   |Books[283155]|Subjects[1000]|Religion & Spirituality[22]|Christianity[12290]|Clergy[12360]|Sermons[12370]\\r\\n  reviews: total: 2  downloaded: 2  avg rating: 5\\r\\n    2000-7-28  cutomer: A2JW67OY8U6HHK  rating: 5  votes:  10  helpful:   9\\r\\n    2003-12-14  cutomer: A2VE83MZF98ITY  rating: 5  votes:   6  helpful:   5\\r\\n\\r\\nId:   2\\r\\nASIN: 0738700797\\r\\n  title: Candlemas: Feast of Flames\\r\\n  group: Book\\r\\n  salesrank: 168596\\r\\n  similar: 5  0738700827  1567184960  1567182836  0738700525  0738700940\\r\\n  categories: 2\\r\\n   |Books[283155]|Subjects[1000]|Religion & Spirituality[22]|Earth-Based Religions[12472]|Wicca[12484]\\r\\n   |Books[283155]|Subjects[1000]|Religion & Spirituality[22]|Earth-Based Religions[12472]|Witchcraft[12486]\\r\\n  reviews: total: 12  downloaded: 12  avg rating: 4.5\\r\\n    2001-12-16  cutomer: A11NCO6YTE4BTJ  rating: 5  votes:   5  helpful:   4\\r\\n    2002-1-7  cutomer:  A9CQ3PLRNIR83  rating: 4  votes:   5  helpful:   5\\r\\n    2002-1-24  cutomer: A13SG9ACZ9O5IM  rating: 5  votes:   8  helpful:   8\\r\\n    2002-1-28  cutomer: A1BDAI6VEYMAZA  rating: 5  votes:   4  helpful:   4\\r\\n    2002-2-6  cutomer: A2P6KAWXJ16234  rating: 4  votes:  16  helpful:  16\\r\\n    2002-2-14  cutomer:  AMACWC3M7PQFR  rating: 4  votes:   5  helpful:   5\\r\\n    2002-3-23  cutomer: A3GO7UV9XX14D8  rating: 4  votes:   6  helpful:   6\\r\\n    2002-5-23  cutomer: A1GIL64QK68WKL  rating: 5  votes:   8  helpful:   8\\r\\n    2003-2-25  cutomer:  AEOBOF2ONQJWV  rating: 5  votes:   8  helpful:   5\\r\\n    2003-11-25  cutomer: A3IGHTES8ME05L  rating: 5  votes:   5  helpful:   5\\r\\n    2004-2-11  cutomer: A1CP26N8RHYVVO  rating: 1  votes:  13  helpful:   9\\r\\n    2005-2-7  cutomer:  ANEIANH0WAT9D  rating: 5  votes:   1  helpful:   1\\r\\n\\r\\nId:   3\\r\\nASIN: 0486287785\\r\\n  title: World War II Allied Fighter Planes Trading Cards\\r\\n  group: Book\\r\\n  salesrank: 1270652\\r\\n  similar: 0\\r\\n  categories: 1\\r\\n   |Books[283155]|Subjects[1000]|Home '"
      ]
     },
     "execution_count": 15,
     "metadata": {},
     "output_type": "execute_result"
    }
   ],
   "source": [
    "file_input[0:2345]"
   ]
  },
  {
   "cell_type": "code",
   "execution_count": null,
   "metadata": {
    "collapsed": true
   },
   "outputs": [],
   "source": []
  }
 ],
 "metadata": {
  "anaconda-cloud": {},
  "kernelspec": {
   "display_name": "Python [conda root]",
   "language": "python",
   "name": "conda-root-py"
  },
  "language_info": {
   "codemirror_mode": {
    "name": "ipython",
    "version": 3
   },
   "file_extension": ".py",
   "mimetype": "text/x-python",
   "name": "python",
   "nbconvert_exporter": "python",
   "pygments_lexer": "ipython3",
   "version": "3.5.2"
  }
 },
 "nbformat": 4,
 "nbformat_minor": 2
}
